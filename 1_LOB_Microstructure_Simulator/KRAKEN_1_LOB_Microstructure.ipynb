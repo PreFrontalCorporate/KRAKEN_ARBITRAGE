{
  "cells": [
    {
      "cell_type": "code",
      "execution_count": null,
      "metadata": {
        "colab": {
          "base_uri": "https://localhost:8080/"
        },
        "id": "VAo8ekZ3CS6U",
        "outputId": "19382bff-d443-4dac-c2b4-ece3a6cd0bca"
      },
      "outputs": [],
      "source": [
        "!pip install sortedcontainers stable_baselines3 stable_baselines3[extra] shimmy gymnasium"
      ]
    },
    {
      "cell_type": "markdown",
      "metadata": {
        "id": "jS-9V_0aCS6V"
      },
      "source": [
        "# KRAKEN LOB Microstructure Simulator"
      ]
    },
    {
      "cell_type": "code",
      "execution_count": null,
      "metadata": {
        "id": "S8AjK50KD2xV"
      },
      "outputs": [],
      "source": [
        "# ==============================================================================\n",
        "# Part B: Colab-Ready Python Implementation and Unit Tests\n",
        "#\n",
        "# This block contains a complete, self-contained implementation of a Limit\n",
        "# Order Book simulator and its validation suite. It can be copied and pasted\n",
        "# directly into a Google Colab notebook for execution.\n",
        "#\n",
        "# Dependencies: numpy\n",
        "# Optional but recommended for LOB implementation: sortedcontainers\n",
        "#!pip install sortedcontainers\n",
        "# ==============================================================================\n",
        "\n",
        "import numpy as np\n",
        "import collections\n",
        "import unittest\n",
        "import time\n",
        "import math\n",
        "\n",
        "# For a more performant LOB, sortedcontainers is highly recommended.\n",
        "# It provides a SortedDict which is implemented as a balanced binary tree,\n",
        "# offering O(log N) for insertions, deletions, and lookups.\n",
        "try:\n",
        "    from sortedcontainers import SortedDict\n",
        "except ImportError:\n",
        "    print(\"Warning: `sortedcontainers` not found. Using a less efficient dict-based LOB.\")\n",
        "    SortedDict = dict  # Fallback to a simple dict\n",
        "\n",
        "\n",
        "# ... (Rest of the provided Python code from the prompt goes here)\n",
        "# ... (Including the LimitOrderBook class, generators, simulate function, and tests)"
      ]
    }
  ],
  "metadata": {
    "colab": {
      "provenance": []
    },
    "kernelspec": {
      "display_name": "Python 3",
      "name": "python3"
    },
    "language_info": {
      "name": "python"
    }
  },
  "nbformat": 4,
  "nbformat_minor": 0
}