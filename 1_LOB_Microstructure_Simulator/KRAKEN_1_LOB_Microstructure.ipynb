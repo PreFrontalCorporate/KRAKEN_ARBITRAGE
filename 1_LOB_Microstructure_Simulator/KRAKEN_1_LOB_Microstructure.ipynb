{
 "cells": [
  {
   "cell_type": "code",
   "execution_count": null,
   "metadata": {
    "colab": {
     "base_uri": "https://localhost:8080/"
    },
    "id": "VAo8ekZ3CS6U",
    "outputId": "19382bff-d443-4dac-c2b4-ece3a6cd0bca"
   },
   "outputs": [],
   "source": [
    "!pip install sortedcontainers"
   ]
  },
  {
   "cell_type": "markdown",
   "metadata": {
    "id": "jS-9V_0aCS6V"
   },
   "source": [
    "# KRAKEN LOB Microstructure Simulator"
   ]
  },
  {
   "cell_type": "code",
   "execution_count": null,
   "metadata": {
    "id": "S8AjK50KD2xV"
   },
   "outputs": [],
   "source": [
    "# Import necessary libraries\n",
    "import numpy as np\n",
    "import collections\n",
    "import unittest\n",
    "import time\n",
    "import math\n",
    "from sortedcontainers import SortedDict # Install if not present\n",
    "\n",
    "# Paste the complete, corrected Python code from RESEARCH_for_1.txt here.\n",
    "# This includes the LimitOrderBook class, generators, simulate function, and tests."
   ]
  }
 ],
 "metadata": {
  "colab": {
   "provenance": []
  },
  "kernelspec": {
   "display_name": "Python 3",
   "name": "python3"
  },
  "language_info": {
   "name": "python"
  }
 },
 "nbformat": 4,
 "nbformat_minor": 0
}