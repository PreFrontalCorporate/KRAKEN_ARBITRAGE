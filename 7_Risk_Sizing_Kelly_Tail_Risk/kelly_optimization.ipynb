#@title 4.1. Setup and Synthetic Data Generation
# Install necessary libraries
!pip install numpy pandas matplotlib scipy cvxpy pyextremes > /dev/null

import numpy as np
import pandas as pd
import matplotlib.pyplot as plt
import cvxpy as cp
from scipy.stats import genpareto, t
from pyextremes import EVA

# Set a reproducible seed for all simulations
np.random.seed(42)

def generate_synthetic_returns(n_trials, p_win, win_return, loss_return, dist='bernoulli', df=3):
    """
    Generates synthetic returns. Can use 'bernoulli' or 't' distribution.
    For 't', df controls tail heaviness.
    """
    if dist == 'bernoulli':
        outcomes = np.random.choice([win_return, loss_return], size=n_trials, p=[p_win, 1 - p_win])
    elif dist == 't':
        raw_returns = t.rvs(df, size=n_trials)
        target_mean = p_win * win_return + (1-p_win) * loss_return
        target_std = np.sqrt(p_win * (win_return - target_mean)**2 + (1-p_win)*(loss_return - target_mean)**2)
        outcomes = raw_returns * target_std + target_mean
    return outcomes

print("Setup complete.")

#@title 4.2. Module 1: Classical and Fractional Kelly with Monte Carlo
def calculate_classical_kelly(p, b, a=1.0):
    """Calculates the classical Kelly criterion fraction."""
    q = 1 - p
    if (p * b - q * a) <= 0:
        return 0.0  # Avoid betting if edge is negative
    return (p * b - q * a) / (a * b)

def run_kelly_simulation(f, returns, n_simulations, n_trials, initial_wealth=100):
    """Runs a Monte Carlo simulation for a given betting fraction."""
    wealth_paths = np.zeros((n_simulations, n_trials + 1))
    wealth_paths[:, 0] = initial_wealth

    for i in range(n_simulations):
        sim_returns = np.random.choice(returns, size=n_trials, replace=True)
        for t in range(n_trials):
            wealth_paths[i, t+1] = wealth_paths[i, t] * (1 + f * sim_returns[t])
            if wealth_paths[i, t+1] <= 0:
                wealth_paths[i, t+1:] = 0  # Prevent going below zero
                break
    return wealth_paths

# Simulation parameters (adjust as needed)
p_true = 0.55      # True win probability
b_true = 1.0       # Win payoff
p_estimated = 0.60 # Overestimated win probability
n_trials = 250
n_simulations = 1000

# ... (rest of the code for Module 1 remains the same, including plotting)

#@title 4.3. Module 2: Drawdown-Constrained Kelly Optimizer
# ... (code for drawdown-constrained optimizer remains the same)

#@title 4.4. Module 3: EVT-based Tail Risk Calculator
# ... (code for EVT tail risk calculator remains the same)

#@title 4.5. Module 4: Unit Test - Fractional Kelly Reduces Ruin in Heavy Tails
# ... (code for unit test remains the same)


# Example of feeding realized P&L distributions from backtests:
# Assuming 'backtest_returns' is a numpy array or pandas Series of your backtested returns
# backtest_returns = ...  # Load your data here

# For the drawdown-constrained optimizer:
# return_matrix = np.vstack([1 + backtest_returns]).T # Convert to gross returns and ensure correct shape
# optimal_weights = optimize_drawdown_constrained_kelly(return_matrix, alpha_dd, beta_dd)

# For the EVT tail risk calculator:
# losses = -backtest_returns[backtest_returns < 0] # Extract positive losses
# evt_risk = calculate_evt_cvar(losses)
