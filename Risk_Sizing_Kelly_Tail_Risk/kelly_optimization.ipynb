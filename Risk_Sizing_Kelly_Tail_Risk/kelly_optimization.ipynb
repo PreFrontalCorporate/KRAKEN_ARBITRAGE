#@title 4.1. Setup and Synthetic Data Generation
# Install necessary libraries
!pip install numpy pandas matplotlib scipy cvxpy pyextremes

import numpy as np
import pandas as pd
import matplotlib.pyplot as plt
import cvxpy as cp
from scipy.stats import genpareto, t
from pyextremes import EVA

# Set a reproducible seed for all simulations
np.random.seed(42)

def generate_synthetic_returns(n_trials, p_win, win_return, loss_return, dist='bernoulli', df=3):
    """
    Generates a series of synthetic returns for a simple binary bet.
    Can also generate heavy-tailed returns from a t-distribution.
    """
    if dist == 'bernoulli':
        outcomes = np.random.choice([win_return, loss_return],
                                    size=n_trials,
                                    p=[p_win, 1 - p_win])
    elif dist == 't':
        # Scale t-distribution to have a specified mean and std dev
        # This is a simplification; for real applications, use empirical data.
        # Here, we generate returns centered around a positive mean to simulate an "edge"
        # with heavy tails.
        raw_returns = t.rvs(df, size=n_trials)
        # Standardize and then scale to target mean/std
        target_mean = p_win * win_return + (1-p_win) * loss_return
        target_std = np.sqrt(p_win * (win_return - target_mean)**2 + (1-p_win)*(loss_return - target_mean)**2)
        outcomes = raw_returns * target_std + target_mean
    return outcomes

print("Setup complete. Libraries installed and functions defined.")

# ... (rest of the code remains the same)